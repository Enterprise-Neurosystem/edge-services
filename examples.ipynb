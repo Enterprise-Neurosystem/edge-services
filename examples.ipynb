{
 "cells": [
  {
   "cell_type": "code",
   "execution_count": 6,
   "id": "5acb2fb9-27c2-4548-9ae9-356eb7cd3d15",
   "metadata": {},
   "outputs": [
    {
     "name": "stdout",
     "output_type": "stream",
     "text": [
      "Collecting psycopg2-binary==2.9.3\n",
      "  Downloading psycopg2_binary-2.9.3-cp38-cp38-manylinux_2_17_x86_64.manylinux2014_x86_64.whl (3.0 MB)\n",
      "     |████████████████████████████████| 3.0 MB 38.2 MB/s            \n",
      "\u001b[?25hInstalling collected packages: psycopg2-binary\n",
      "Successfully installed psycopg2-binary-2.9.3\n",
      "\u001b[33mWARNING: You are using pip version 21.3.1; however, version 22.2.2 is available.\n",
      "You should consider upgrading via the '/opt/app-root/bin/python3.8 -m pip install --upgrade pip' command.\u001b[0m\n"
     ]
    }
   ],
   "source": [
    "!pip install -r requirements.txt"
   ]
  },
  {
   "cell_type": "code",
   "execution_count": 7,
   "id": "b77d3e19-31eb-4e91-b729-ca1e433cc886",
   "metadata": {},
   "outputs": [],
   "source": [
    "from connection_pool_singleton import ConnectionPoolSingleton\n",
    "from anomaly_data_service import AnomalyDataService"
   ]
  },
  {
   "cell_type": "code",
   "execution_count": 8,
   "id": "b71a3631-7b9b-4d1b-8cf8-264a54359c67",
   "metadata": {},
   "outputs": [],
   "source": [
    "# Create an instance of the class AnomalyDataService\n",
    "query = AnomalyDataService "
   ]
  },
  {
   "cell_type": "code",
   "execution_count": 9,
   "id": "e7fee3fd-1408-43de-844f-8d61353370d4",
   "metadata": {},
   "outputs": [
    {
     "data": {
      "text/html": [
       "<div>\n",
       "<style scoped>\n",
       "    .dataframe tbody tr th:only-of-type {\n",
       "        vertical-align: middle;\n",
       "    }\n",
       "\n",
       "    .dataframe tbody tr th {\n",
       "        vertical-align: top;\n",
       "    }\n",
       "\n",
       "    .dataframe thead th {\n",
       "        text-align: right;\n",
       "    }\n",
       "</style>\n",
       "<table border=\"1\" class=\"dataframe\">\n",
       "  <thead>\n",
       "    <tr style=\"text-align: right;\">\n",
       "      <th></th>\n",
       "      <th>sensortimestamp</th>\n",
       "      <th>groupname</th>\n",
       "      <th>sensor_25</th>\n",
       "      <th>sensor_11</th>\n",
       "      <th>sensor_36</th>\n",
       "      <th>sensor_34</th>\n",
       "      <th>machine_status</th>\n",
       "    </tr>\n",
       "  </thead>\n",
       "  <tbody>\n",
       "    <tr>\n",
       "      <th>0</th>\n",
       "      <td>2018-05-23 22:23:00</td>\n",
       "      <td>3</td>\n",
       "      <td>699.4477</td>\n",
       "      <td>41.36492</td>\n",
       "      <td>336.7599</td>\n",
       "      <td>174.5694</td>\n",
       "      <td>0</td>\n",
       "    </tr>\n",
       "    <tr>\n",
       "      <th>1</th>\n",
       "      <td>2018-05-23 22:24:00</td>\n",
       "      <td>3</td>\n",
       "      <td>699.0791</td>\n",
       "      <td>41.44566</td>\n",
       "      <td>332.5014</td>\n",
       "      <td>173.8312</td>\n",
       "      <td>0</td>\n",
       "    </tr>\n",
       "    <tr>\n",
       "      <th>2</th>\n",
       "      <td>2018-05-23 22:25:00</td>\n",
       "      <td>3</td>\n",
       "      <td>697.1430</td>\n",
       "      <td>41.37920</td>\n",
       "      <td>335.6303</td>\n",
       "      <td>176.7784</td>\n",
       "      <td>0</td>\n",
       "    </tr>\n",
       "    <tr>\n",
       "      <th>3</th>\n",
       "      <td>2018-05-23 22:26:00</td>\n",
       "      <td>3</td>\n",
       "      <td>695.5363</td>\n",
       "      <td>41.17400</td>\n",
       "      <td>334.9510</td>\n",
       "      <td>175.4559</td>\n",
       "      <td>0</td>\n",
       "    </tr>\n",
       "    <tr>\n",
       "      <th>4</th>\n",
       "      <td>2018-05-23 22:27:00</td>\n",
       "      <td>3</td>\n",
       "      <td>698.4655</td>\n",
       "      <td>41.27746</td>\n",
       "      <td>338.9472</td>\n",
       "      <td>171.5354</td>\n",
       "      <td>0</td>\n",
       "    </tr>\n",
       "  </tbody>\n",
       "</table>\n",
       "</div>"
      ],
      "text/plain": [
       "      sensortimestamp  groupname  sensor_25  sensor_11  sensor_36  sensor_34  \\\n",
       "0 2018-05-23 22:23:00          3   699.4477   41.36492   336.7599   174.5694   \n",
       "1 2018-05-23 22:24:00          3   699.0791   41.44566   332.5014   173.8312   \n",
       "2 2018-05-23 22:25:00          3   697.1430   41.37920   335.6303   176.7784   \n",
       "3 2018-05-23 22:26:00          3   695.5363   41.17400   334.9510   175.4559   \n",
       "4 2018-05-23 22:27:00          3   698.4655   41.27746   338.9472   171.5354   \n",
       "\n",
       "   machine_status  \n",
       "0               0  \n",
       "1               0  \n",
       "2               0  \n",
       "3               0  \n",
       "4               0  "
      ]
     },
     "execution_count": 9,
     "metadata": {},
     "output_type": "execute_result"
    }
   ],
   "source": [
    "# Select all rows from the anomaly table and reading it into a pandas dataframe\n",
    "df_all_rows = query.get_all_data()\n",
    "df_all_rows.head()"
   ]
  },
  {
   "cell_type": "code",
   "execution_count": 10,
   "id": "894c42b1-1dc6-490c-bbad-410a2c9122bc",
   "metadata": {},
   "outputs": [
    {
     "data": {
      "text/html": [
       "<div>\n",
       "<style scoped>\n",
       "    .dataframe tbody tr th:only-of-type {\n",
       "        vertical-align: middle;\n",
       "    }\n",
       "\n",
       "    .dataframe tbody tr th {\n",
       "        vertical-align: top;\n",
       "    }\n",
       "\n",
       "    .dataframe thead th {\n",
       "        text-align: right;\n",
       "    }\n",
       "</style>\n",
       "<table border=\"1\" class=\"dataframe\">\n",
       "  <thead>\n",
       "    <tr style=\"text-align: right;\">\n",
       "      <th></th>\n",
       "      <th>sensor_25</th>\n",
       "    </tr>\n",
       "  </thead>\n",
       "  <tbody>\n",
       "    <tr>\n",
       "      <th>0</th>\n",
       "      <td>699.4477</td>\n",
       "    </tr>\n",
       "    <tr>\n",
       "      <th>1</th>\n",
       "      <td>699.0791</td>\n",
       "    </tr>\n",
       "    <tr>\n",
       "      <th>2</th>\n",
       "      <td>697.1430</td>\n",
       "    </tr>\n",
       "    <tr>\n",
       "      <th>3</th>\n",
       "      <td>695.5363</td>\n",
       "    </tr>\n",
       "    <tr>\n",
       "      <th>4</th>\n",
       "      <td>698.4655</td>\n",
       "    </tr>\n",
       "  </tbody>\n",
       "</table>\n",
       "</div>"
      ],
      "text/plain": [
       "   sensor_25\n",
       "0   699.4477\n",
       "1   699.0791\n",
       "2   697.1430\n",
       "3   695.5363\n",
       "4   698.4655"
      ]
     },
     "execution_count": 10,
     "metadata": {},
     "output_type": "execute_result"
    }
   ],
   "source": [
    "# Select sensor 25 from the anomaly table and reading it into a pandas df\n",
    "sensor_25 = query.get_sensor_25()\n",
    "sensor_25.head()"
   ]
  },
  {
   "cell_type": "code",
   "execution_count": 11,
   "id": "3cdff8b9-c433-47fb-b356-d5f2e1d3a78d",
   "metadata": {},
   "outputs": [
    {
     "name": "stdout",
     "output_type": "stream",
     "text": [
      "The minimum value is:678.6206\n",
      "The maximum value is:753.4195\n"
     ]
    }
   ],
   "source": [
    "# Select the minimum and maximum value after grouping by col_name = sensor_25 and groupname = 3\n",
    "query.get_min_max(col_name='sensor_25', groupname='3')"
   ]
  }
 ],
 "metadata": {
  "kernelspec": {
   "display_name": "Python 3 (ipykernel)",
   "language": "python",
   "name": "python3"
  },
  "language_info": {
   "codemirror_mode": {
    "name": "ipython",
    "version": 3
   },
   "file_extension": ".py",
   "mimetype": "text/x-python",
   "name": "python",
   "nbconvert_exporter": "python",
   "pygments_lexer": "ipython3",
   "version": "3.8.8"
  }
 },
 "nbformat": 4,
 "nbformat_minor": 5
}
